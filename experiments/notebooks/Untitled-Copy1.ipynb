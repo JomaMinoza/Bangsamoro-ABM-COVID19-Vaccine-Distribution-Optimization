{
 "cells": [
  {
   "cell_type": "code",
   "execution_count": 1,
   "metadata": {},
   "outputs": [
    {
     "name": "stderr",
     "output_type": "stream",
     "text": [
      "/home/joma/miniconda3/lib/python3.7/site-packages/IPython/core/interactiveshell.py:3296: DtypeWarning: Columns (10,15,16) have mixed types. Specify dtype option on import or set low_memory=False.\n",
      "  exec(code_obj, self.user_global_ns, self.user_ns)\n"
     ]
    }
   ],
   "source": [
    "import os\n",
    "import sys\n",
    "\n",
    "import warnings\n",
    "import numpy as np\n",
    "import pandas as pd\n",
    "import matplotlib.pyplot as plt\n",
    "import seaborn as sns\n",
    "\n",
    "sys.path.insert(0, os.path.abspath('../'))\n",
    "sys.path.insert(0, os.path.abspath('../abm/'))\n",
    "sys.path.insert(0, os.path.abspath('../simulation/'))\n",
    "sys.path.insert(0, os.path.abspath('../mesa/'))\n",
    "\n",
    "from mesa.batchrunner import BatchRunner\n",
    "\n",
    "from simulation.grid.model import GridSimulationEnvironment\n",
    "\n",
    "from abm.utils.collectors.total_susceptible import total_susceptible\n",
    "from abm.utils.collectors.total_infected import total_infected\n",
    "from abm.utils.collectors.total_deaths import total_deaths\n",
    "from abm.utils.collectors.total_recovered import total_recovered\n",
    "from abm.utils.collectors.total_vaccinated import total_vaccinated\n",
    "\n",
    "from abm.utils.collectors.count_age_infected import *\n",
    "from abm.utils.collectors.count_age_exposed import *\n",
    "from abm.utils.collectors.count_age_died import *\n",
    "from abm.utils.collectors.count_age_recovered import *\n",
    "\n",
    "from abm.utils.collectors.count_peak_values import *\n",
    "\n",
    "%matplotlib inline\n",
    "\n",
    "plt.rcParams['figure.figsize'] = [15, 8]\n",
    "plt.rcParams['figure.dpi'] = 100\n",
    "plt.style.use('ggplot')\n",
    "\n",
    "pd.set_option('display.max_rows', 100)\n",
    "pd.set_option('display.max_columns', 100)\n",
    "pd.set_option('display.width', 100)\n",
    "\n",
    "\n",
    "warnings.simplefilter('ignore')"
   ]
  },
  {
   "cell_type": "code",
   "execution_count": 2,
   "metadata": {},
   "outputs": [],
   "source": [
    "default_scenario_model_params = {\n",
    "    \"height\": 60,\n",
    "    \"width\": 60,\n",
    "    \"incubation_period\": 7,\n",
    "    \"recovery_period\": 14,\n",
    "    \"transmission_rate\":  0.01,\n",
    "    \"viral_load_probability\":  0.01,\n",
    "    \"wearing_masks\": 0.8,\n",
    "    \"social_distance_limit\": 0.7,\n",
    "    \"natural_immunity\": 0.2,\n",
    "    \"exercise\": 0.3,\n",
    "    \"preexisting_conditions\": 0.6,\n",
    "    \"minority_restrictions\": 21,\n",
    "    \"adult_restrictions\": 60,\n",
    "    \"scenarios\": \"No Vaccination\",\n",
    "    \"vaccination_implementation\": \"After 0 Days\",\n",
    "    \"scale\": 1000,\n",
    "}\n",
    "\n",
    "default_vaccination_model_params = {\n",
    "    \"height\": 60,\n",
    "    \"width\": 60,\n",
    "    \"incubation_period\": 7,\n",
    "    \"recovery_period\": 14,\n",
    "    \"transmission_rate\":  0.01,\n",
    "    \"viral_load_probability\":  0.01,\n",
    "    \"wearing_masks\": 0.8,\n",
    "    \"social_distance_limit\": 0.7,\n",
    "    \"natural_immunity\": 0.2,\n",
    "    \"exercise\": 0.3,\n",
    "    \"preexisting_conditions\": 0.6,\n",
    "    \"minority_restrictions\": 21,\n",
    "    \"adult_restrictions\": 60,\n",
    "    \"scenarios\": \"No Vaccination\",\n",
    "    \"vaccination_implementation\": \"After 0 Days\",\n",
    "    \"scale\": 1000,\n",
    "}\n",
    "\n",
    "mobility_vaccination_model_params = default_vaccination_model_params\n",
    "\n",
    "mobility_vaccination_model_params[\"mobile_workforce\"] = True\n",
    "\n",
    "elderly_vaccination_model_params = default_vaccination_model_params\n",
    "\n",
    "elderly_vaccination_model_params[\"elderly\"] = True\n",
    "\n",
    "all_configuration_vaccination_model_params = default_vaccination_model_params\n",
    "all_configuration_vaccination_model_params[\"mobile_workforce\"] = True\n",
    "all_configuration_vaccination_model_params[\"elderly\"] = True"
   ]
  },
  {
   "cell_type": "code",
   "execution_count": null,
   "metadata": {},
   "outputs": [],
   "source": [
    "default_scenario_model = GridSimulationEnvironment(**default_scenario_model_params)\n",
    "while default_scenario_model.running and default_scenario_model.schedule.steps < 270:\n",
    "    default_scenario_model.step()"
   ]
  },
  {
   "cell_type": "code",
   "execution_count": null,
   "metadata": {},
   "outputs": [],
   "source": [
    "agents_exposed_collector = default_scenario_model.agents_exposed_collector.get_model_vars_dataframe()\n",
    "agents_exposed_collector.plot.line()"
   ]
  },
  {
   "cell_type": "code",
   "execution_count": null,
   "metadata": {},
   "outputs": [],
   "source": [
    "variable_params = {\"scale\": range(100,100)}\n",
    "\n",
    "model_reporters = {\n",
    "    \"Susceptible\": total_susceptible,\n",
    "    \"Infected\": total_infected,\n",
    "    \"Deaths\": total_deaths,\n",
    "    \"Recovered\": total_recovered,\n",
    "    \"Vaccinated\": total_vaccinated,\n",
    "    \"Exposed: 0-9\":   count_age_0_9_exposed,\n",
    "    \"Exposed: 10-19\": count_age_10_19_exposed,\n",
    "    \"Exposed: 20-29\": count_age_20_29_exposed,\n",
    "    \"Exposed: 30-39\": count_age_30_39_exposed,\n",
    "    \"Exposed: 40-49\": count_age_40_49_exposed,\n",
    "    \"Exposed: 50-59\": count_age_50_59_exposed,\n",
    "    \"Exposed: 60-69\": count_age_60_69_exposed,\n",
    "    \"Exposed: 70-79\": count_age_70_79_exposed,\n",
    "    \"Exposed: 80+\":   count_age_80_up_exposed,               \n",
    "    \"Infected: 0-9\":   count_age_0_9_infected,\n",
    "    \"Infected: 10-19\": count_age_10_19_infected,\n",
    "    \"Infected: 20-29\": count_age_20_29_infected,\n",
    "    \"Infected: 30-39\": count_age_30_39_infected,\n",
    "    \"Infected: 40-49\": count_age_40_49_infected,\n",
    "    \"Infected: 50-59\": count_age_50_59_infected,\n",
    "    \"Infected: 60-69\": count_age_60_69_infected,\n",
    "    \"Infected: 70-79\": count_age_70_79_infected,\n",
    "    \"Infected: 80+\":   count_age_80_up_infected,\n",
    "    \"Died: 0-9\":   count_age_0_9_died,\n",
    "    \"Died: 10-19\": count_age_10_19_died,\n",
    "    \"Died: 20-29\": count_age_20_29_died,\n",
    "    \"Died: 30-39\": count_age_30_39_died,\n",
    "    \"Died: 40-49\": count_age_40_49_died,\n",
    "    \"Died: 50-59\": count_age_50_59_died,\n",
    "    \"Died: 60-69\": count_age_60_69_died,\n",
    "    \"Died: 70-79\": count_age_70_79_died,\n",
    "    \"Died: 80+\":   count_age_80_up_died,\n",
    "    \"Recovered: 0-9\":   count_age_0_9_recovered,\n",
    "    \"Recovered: 10-19\": count_age_10_19_recovered,\n",
    "    \"Recovered: 20-29\": count_age_20_29_recovered,\n",
    "    \"Recovered: 30-39\": count_age_30_39_recovered,\n",
    "    \"Recovered: 40-49\": count_age_40_49_recovered,\n",
    "    \"Recovered: 50-59\": count_age_50_59_recovered,\n",
    "    \"Recovered: 60-69\": count_age_60_69_recovered,\n",
    "    \"Recovered: 70-79\": count_age_70_79_recovered,\n",
    "    \"Recovered: 80+\":   count_age_80_up_recovered,\n",
    "    \"Peak Infected\": max_active_cases_counter,\n",
    "    \"Peak Date\": max_active_cases_counter\n",
    "}            \n",
    "        \n",
    "\n",
    "param_sweep_default_scenario = BatchRunner(GridSimulationEnvironment,\n",
    "                          variable_parameters = variable_params, \n",
    "                          fixed_parameters = default_vaccination_model_params,\n",
    "                          iterations = 3, \n",
    "                          max_steps = 3,\n",
    "                          model_reporters = model_reporters)\n",
    "\n",
    "param_sweep_default_scenario.run_all()"
   ]
  },
  {
   "cell_type": "code",
   "execution_count": null,
   "metadata": {},
   "outputs": [],
   "source": [
    "df = param_sweep_default_scenario.get_model_vars_dataframe()\n",
    "df.to_csv(\"default_vaccination_model_params.csv\")\n",
    "df"
   ]
  },
  {
   "cell_type": "code",
   "execution_count": null,
   "metadata": {},
   "outputs": [],
   "source": [
    "model_out = model.datacollector.get_model_vars_dataframe()\n",
    "model_out.head(20)"
   ]
  },
  {
   "cell_type": "code",
   "execution_count": null,
   "metadata": {},
   "outputs": [],
   "source": []
  },
  {
   "cell_type": "code",
   "execution_count": null,
   "metadata": {},
   "outputs": [],
   "source": [
    "agents = model.agents_died_collector.get_model_vars_dataframe()\n",
    "agents.plot.line()"
   ]
  },
  {
   "cell_type": "code",
   "execution_count": null,
   "metadata": {},
   "outputs": [],
   "source": [
    "agents"
   ]
  },
  {
   "cell_type": "code",
   "execution_count": null,
   "metadata": {},
   "outputs": [],
   "source": [
    "agents = model.agents_exposed_collector.get_model_vars_dataframe()\n",
    "agents.plot.line()"
   ]
  },
  {
   "cell_type": "code",
   "execution_count": null,
   "metadata": {},
   "outputs": [],
   "source": [
    "a = np.array([])\n",
    "for i in range(100):\n",
    "    a = np.append(a,np.random.beta(3.3, 6.1)*100)\n",
    "    \n",
    "np.max(a)"
   ]
  },
  {
   "cell_type": "code",
   "execution_count": null,
   "metadata": {},
   "outputs": [],
   "source": [
    "from scipy.stats import beta \n",
    "import numpy as np\n",
    "a, b = 3.3, 6.1\n",
    "\n",
    "r = beta.rvs(a, b, size=1000)\n",
    "\n",
    "fig, ax = plt.subplots(1, 1)\n",
    "ax.hist(r, density=True, histtype='stepfilled', alpha=0.2)\n",
    "ax.legend(loc='best', frameon=False)\n",
    "\n",
    "plt.show()\n",
    "\n"
   ]
  },
  {
   "cell_type": "code",
   "execution_count": null,
   "metadata": {},
   "outputs": [],
   "source": [
    "12883"
   ]
  },
  {
   "cell_type": "code",
   "execution_count": null,
   "metadata": {},
   "outputs": [],
   "source": []
  }
 ],
 "metadata": {
  "kernelspec": {
   "display_name": "Python 3",
   "language": "python",
   "name": "python3"
  },
  "language_info": {
   "codemirror_mode": {
    "name": "ipython",
    "version": 3
   },
   "file_extension": ".py",
   "mimetype": "text/x-python",
   "name": "python",
   "nbconvert_exporter": "python",
   "pygments_lexer": "ipython3",
   "version": "3.7.6"
  }
 },
 "nbformat": 4,
 "nbformat_minor": 2
}
